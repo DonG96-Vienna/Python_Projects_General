{
 "cells": [
  {
   "cell_type": "code",
   "execution_count": 1,
   "metadata": {},
   "outputs": [],
   "source": [
    "import requests\n",
    "from bs4 import BeautifulSoup\n",
    "import pandas as pd\n",
    "import numpy as np"
   ]
  },
  {
   "cell_type": "code",
   "execution_count": 2,
   "metadata": {},
   "outputs": [],
   "source": [
    "def per_game_stats(year, lst):\n",
    "    url = f'https://www.basketball-reference.com/leagues/NBA_{year}_per_game.html'\n",
    "    \n",
    "    page = requests.get(url)\n",
    "    \n",
    "    soup = BeautifulSoup(page.content,'html.parser')\n",
    "    \n",
    "    table = soup.find_all(class_=\"full_table\")\n",
    "    \n",
    "    head = soup.find(class_=\"thead\")\n",
    "    \n",
    "    column_names = [head.text for item in head][0].replace(\"\\n\",\",\").split(\",\")[2:-1] #Get rid of 'Rk' and empty first col\n",
    "    \n",
    "    players = []\n",
    "    \n",
    "    for i in range(len(table)):\n",
    "        \n",
    "        player_ = []\n",
    "        \n",
    "        for td in table[i].find_all(\"td\"):\n",
    "            player_.append(td.text)\n",
    "        players.append(player_)\n",
    "        \n",
    "    df = pd.DataFrame(players, columns = column_names)\n",
    "    df['Season'] = f'{year - 1}-{year}'\n",
    "    lst.append(df)"
   ]
  },
  {
   "cell_type": "code",
   "execution_count": 3,
   "metadata": {},
   "outputs": [],
   "source": [
    "year = 2021\n",
    "all_year = []\n",
    "while year >= 1950:\n",
    "    per_game_stats(year, all_year)\n",
    "    year -= 1\n",
    "    \n",
    "all_year = pd.concat(all_year)\n",
    "all_year = all_year.reset_index()\n",
    "del all_year['index']\n",
    "all_year['Player'] = all_year['Player'].map(lambda x: x.rstrip('*'))"
   ]
  },
  {
   "cell_type": "code",
   "execution_count": 4,
   "metadata": {},
   "outputs": [],
   "source": [
    "all_year.to_csv(f'{year+1}-2021_per_game_stats.csv', header=True)"
   ]
  }
 ],
 "metadata": {
  "kernelspec": {
   "display_name": "Python 3",
   "language": "python",
   "name": "python3"
  },
  "language_info": {
   "codemirror_mode": {
    "name": "ipython",
    "version": 3
   },
   "file_extension": ".py",
   "mimetype": "text/x-python",
   "name": "python",
   "nbconvert_exporter": "python",
   "pygments_lexer": "ipython3",
   "version": "3.9.1"
  }
 },
 "nbformat": 4,
 "nbformat_minor": 4
}
